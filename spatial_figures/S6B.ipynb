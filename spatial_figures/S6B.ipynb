{
 "cells": [
  {
   "cell_type": "markdown",
   "metadata": {},
   "source": [
    "# Figure S6B\n",
    "#### spatial correlation - ovary cancer sample"
   ]
  },
  {
   "cell_type": "code",
   "execution_count": 39,
   "metadata": {},
   "outputs": [
    {
     "name": "stdout",
     "output_type": "stream",
     "text": [
      "The autoreload extension is already loaded. To reload it, use:\n",
      "  %reload_ext autoreload\n"
     ]
    }
   ],
   "source": [
    "import s3fs\n",
    "import os\n",
    "import pandas as pd\n",
    "import tifffile\n",
    "from matplotlib import pyplot as plt\n",
    "import numpy as np\n",
    "import h5py\n",
    "import helper\n",
    "from tqdm import tqdm\n",
    "import scanpy as sc\n",
    "import json\n",
    "%load_ext autoreload\n",
    "%autoreload 2\n",
    "sc.settings.set_figure_params(dpi=70, facecolor='white')"
   ]
  },
  {
   "cell_type": "code",
   "execution_count": 3,
   "metadata": {},
   "outputs": [],
   "source": [
    "from scipy.stats import pearsonr,spearmanr\n",
    "import multiprocessing as mp\n",
    "import seaborn as sns\n",
    "from scipy import spatial"
   ]
  },
  {
   "cell_type": "code",
   "execution_count": 4,
   "metadata": {},
   "outputs": [],
   "source": [
    "#settings\n",
    "plt.rcParams['figure.figsize'] = [5, 5]\n",
    "#load from helper\n",
    "dataPath=helper.dataPath\n",
    "fs=helper.fs"
   ]
  },
  {
   "cell_type": "code",
   "execution_count": 6,
   "metadata": {},
   "outputs": [],
   "source": [
    "experimentName = 'HuOvarCanc_723536FT2_VS15_Cellbound_V6_NP_10-18-2021'"
   ]
  },
  {
   "cell_type": "code",
   "execution_count": 7,
   "metadata": {},
   "outputs": [
    {
     "data": {
      "text/plain": [
       "['1701-vizgen-internal/intermediate_analysis/HuOvarCanc_723536FT2_VS15_Cellbound_V6_NP_10-18-2021/region_0']"
      ]
     },
     "execution_count": 7,
     "metadata": {},
     "output_type": "execute_result"
    }
   ],
   "source": [
    "fs.ls(os.path.join(dataPath, experimentName))"
   ]
  },
  {
   "cell_type": "code",
   "execution_count": 8,
   "metadata": {},
   "outputs": [
    {
     "data": {
      "text/plain": [
       "['1701-vizgen-internal/intermediate_analysis/HuOvarCanc_723536FT2_VS15_Cellbound_V6_NP_10-18-2021/region_0/HuOvarCanc_723536FT2_VS15_Cellbound_V6_NP_10-18-2021_region_0.vzg',\n",
       " '1701-vizgen-internal/intermediate_analysis/HuOvarCanc_723536FT2_VS15_Cellbound_V6_NP_10-18-2021/region_0/cell_boundaries',\n",
       " '1701-vizgen-internal/intermediate_analysis/HuOvarCanc_723536FT2_VS15_Cellbound_V6_NP_10-18-2021/region_0/cell_by_gene.csv',\n",
       " '1701-vizgen-internal/intermediate_analysis/HuOvarCanc_723536FT2_VS15_Cellbound_V6_NP_10-18-2021/region_0/cell_metadata.csv',\n",
       " '1701-vizgen-internal/intermediate_analysis/HuOvarCanc_723536FT2_VS15_Cellbound_V6_NP_10-18-2021/region_0/detected_transcripts.csv',\n",
       " '1701-vizgen-internal/intermediate_analysis/HuOvarCanc_723536FT2_VS15_Cellbound_V6_NP_10-18-2021/region_0/images']"
      ]
     },
     "execution_count": 8,
     "metadata": {},
     "output_type": "execute_result"
    }
   ],
   "source": [
    "fs.ls(os.path.join(dataPath, experimentName,'region_0'))"
   ]
  },
  {
   "cell_type": "markdown",
   "metadata": {},
   "source": [
    "## Load csv files - detected transcripts"
   ]
  },
  {
   "cell_type": "code",
   "execution_count": 9,
   "metadata": {},
   "outputs": [],
   "source": [
    "detectedTranscripts = pd.read_csv(fs.open(os.path.join(\n",
    "    dataPath, experimentName,'region_0/', 'detected_transcripts.csv')), index_col=0)"
   ]
  },
  {
   "cell_type": "code",
   "execution_count": 10,
   "metadata": {},
   "outputs": [
    {
     "data": {
      "text/html": [
       "<div>\n",
       "<style scoped>\n",
       "    .dataframe tbody tr th:only-of-type {\n",
       "        vertical-align: middle;\n",
       "    }\n",
       "\n",
       "    .dataframe tbody tr th {\n",
       "        vertical-align: top;\n",
       "    }\n",
       "\n",
       "    .dataframe thead th {\n",
       "        text-align: right;\n",
       "    }\n",
       "</style>\n",
       "<table border=\"1\" class=\"dataframe\">\n",
       "  <thead>\n",
       "    <tr style=\"text-align: right;\">\n",
       "      <th></th>\n",
       "      <th>barcode_id</th>\n",
       "      <th>global_x</th>\n",
       "      <th>global_y</th>\n",
       "      <th>global_z</th>\n",
       "      <th>x</th>\n",
       "      <th>y</th>\n",
       "      <th>fov</th>\n",
       "      <th>gene</th>\n",
       "      <th>transcript_id</th>\n",
       "    </tr>\n",
       "  </thead>\n",
       "  <tbody>\n",
       "    <tr>\n",
       "      <th>2299</th>\n",
       "      <td>1</td>\n",
       "      <td>120.448586</td>\n",
       "      <td>3541.7170</td>\n",
       "      <td>0.0</td>\n",
       "      <td>1678.4247</td>\n",
       "      <td>193.59569</td>\n",
       "      <td>0</td>\n",
       "      <td>FCGR2A</td>\n",
       "      <td>ENST00000271450</td>\n",
       "    </tr>\n",
       "    <tr>\n",
       "      <th>2704</th>\n",
       "      <td>1</td>\n",
       "      <td>67.957760</td>\n",
       "      <td>3611.7322</td>\n",
       "      <td>0.0</td>\n",
       "      <td>1192.3986</td>\n",
       "      <td>841.88600</td>\n",
       "      <td>0</td>\n",
       "      <td>FCGR2A</td>\n",
       "      <td>ENST00000271450</td>\n",
       "    </tr>\n",
       "    <tr>\n",
       "      <th>2754</th>\n",
       "      <td>1</td>\n",
       "      <td>58.372974</td>\n",
       "      <td>3619.9395</td>\n",
       "      <td>0.0</td>\n",
       "      <td>1103.6505</td>\n",
       "      <td>917.87870</td>\n",
       "      <td>0</td>\n",
       "      <td>FCGR2A</td>\n",
       "      <td>ENST00000271450</td>\n",
       "    </tr>\n",
       "    <tr>\n",
       "      <th>3250</th>\n",
       "      <td>1</td>\n",
       "      <td>79.943130</td>\n",
       "      <td>3704.8447</td>\n",
       "      <td>0.0</td>\n",
       "      <td>1303.3741</td>\n",
       "      <td>1704.03850</td>\n",
       "      <td>0</td>\n",
       "      <td>FCGR2A</td>\n",
       "      <td>ENST00000271450</td>\n",
       "    </tr>\n",
       "    <tr>\n",
       "      <th>4454</th>\n",
       "      <td>1</td>\n",
       "      <td>120.167080</td>\n",
       "      <td>3708.4856</td>\n",
       "      <td>1.0</td>\n",
       "      <td>1675.8181</td>\n",
       "      <td>1737.75020</td>\n",
       "      <td>0</td>\n",
       "      <td>FCGR2A</td>\n",
       "      <td>ENST00000271450</td>\n",
       "    </tr>\n",
       "  </tbody>\n",
       "</table>\n",
       "</div>"
      ],
      "text/plain": [
       "      barcode_id    global_x   global_y  global_z          x           y  fov  \\\n",
       "2299           1  120.448586  3541.7170       0.0  1678.4247   193.59569    0   \n",
       "2704           1   67.957760  3611.7322       0.0  1192.3986   841.88600    0   \n",
       "2754           1   58.372974  3619.9395       0.0  1103.6505   917.87870    0   \n",
       "3250           1   79.943130  3704.8447       0.0  1303.3741  1704.03850    0   \n",
       "4454           1  120.167080  3708.4856       1.0  1675.8181  1737.75020    0   \n",
       "\n",
       "        gene    transcript_id  \n",
       "2299  FCGR2A  ENST00000271450  \n",
       "2704  FCGR2A  ENST00000271450  \n",
       "2754  FCGR2A  ENST00000271450  \n",
       "3250  FCGR2A  ENST00000271450  \n",
       "4454  FCGR2A  ENST00000271450  "
      ]
     },
     "execution_count": 10,
     "metadata": {},
     "output_type": "execute_result"
    }
   ],
   "source": [
    "detectedTranscripts.head()"
   ]
  },
  {
   "cell_type": "code",
   "execution_count": 11,
   "metadata": {},
   "outputs": [
    {
     "data": {
      "text/html": [
       "<div>\n",
       "<style scoped>\n",
       "    .dataframe tbody tr th:only-of-type {\n",
       "        vertical-align: middle;\n",
       "    }\n",
       "\n",
       "    .dataframe tbody tr th {\n",
       "        vertical-align: top;\n",
       "    }\n",
       "\n",
       "    .dataframe thead th {\n",
       "        text-align: right;\n",
       "    }\n",
       "</style>\n",
       "<table border=\"1\" class=\"dataframe\">\n",
       "  <thead>\n",
       "    <tr style=\"text-align: right;\">\n",
       "      <th></th>\n",
       "      <th>barcode_id</th>\n",
       "      <th>global_x</th>\n",
       "      <th>global_y</th>\n",
       "      <th>global_z</th>\n",
       "      <th>x</th>\n",
       "      <th>y</th>\n",
       "      <th>fov</th>\n",
       "    </tr>\n",
       "  </thead>\n",
       "  <tbody>\n",
       "    <tr>\n",
       "      <th>count</th>\n",
       "      <td>3.420433e+07</td>\n",
       "      <td>3.420433e+07</td>\n",
       "      <td>3.420433e+07</td>\n",
       "      <td>3.420433e+07</td>\n",
       "      <td>3.420433e+07</td>\n",
       "      <td>3.420433e+07</td>\n",
       "      <td>3.420433e+07</td>\n",
       "    </tr>\n",
       "    <tr>\n",
       "      <th>mean</th>\n",
       "      <td>1.887844e+02</td>\n",
       "      <td>2.578946e+03</td>\n",
       "      <td>5.468160e+03</td>\n",
       "      <td>2.800580e+00</td>\n",
       "      <td>1.000808e+03</td>\n",
       "      <td>1.037227e+03</td>\n",
       "      <td>7.003680e+02</td>\n",
       "    </tr>\n",
       "    <tr>\n",
       "      <th>std</th>\n",
       "      <td>9.517242e+01</td>\n",
       "      <td>1.438207e+03</td>\n",
       "      <td>3.058479e+03</td>\n",
       "      <td>1.971954e+00</td>\n",
       "      <td>5.139633e+02</td>\n",
       "      <td>5.155417e+02</td>\n",
       "      <td>4.117334e+02</td>\n",
       "    </tr>\n",
       "    <tr>\n",
       "      <th>min</th>\n",
       "      <td>0.000000e+00</td>\n",
       "      <td>-7.008353e+01</td>\n",
       "      <td>-1.340096e+02</td>\n",
       "      <td>0.000000e+00</td>\n",
       "      <td>4.118394e+01</td>\n",
       "      <td>4.233885e-01</td>\n",
       "      <td>0.000000e+00</td>\n",
       "    </tr>\n",
       "    <tr>\n",
       "      <th>25%</th>\n",
       "      <td>1.130000e+02</td>\n",
       "      <td>1.348201e+03</td>\n",
       "      <td>2.955873e+03</td>\n",
       "      <td>1.000000e+00</td>\n",
       "      <td>5.660819e+02</td>\n",
       "      <td>6.043360e+02</td>\n",
       "      <td>3.410000e+02</td>\n",
       "    </tr>\n",
       "    <tr>\n",
       "      <th>50%</th>\n",
       "      <td>1.980000e+02</td>\n",
       "      <td>2.570390e+03</td>\n",
       "      <td>5.470337e+03</td>\n",
       "      <td>3.000000e+00</td>\n",
       "      <td>9.954506e+02</td>\n",
       "      <td>1.045606e+03</td>\n",
       "      <td>7.000000e+02</td>\n",
       "    </tr>\n",
       "    <tr>\n",
       "      <th>75%</th>\n",
       "      <td>2.570000e+02</td>\n",
       "      <td>3.753105e+03</td>\n",
       "      <td>7.845866e+03</td>\n",
       "      <td>4.000000e+00</td>\n",
       "      <td>1.429164e+03</td>\n",
       "      <td>1.473260e+03</td>\n",
       "      <td>1.044000e+03</td>\n",
       "    </tr>\n",
       "    <tr>\n",
       "      <th>max</th>\n",
       "      <td>3.840000e+02</td>\n",
       "      <td>5.603088e+03</td>\n",
       "      <td>1.181130e+04</td>\n",
       "      <td>6.000000e+00</td>\n",
       "      <td>2.003593e+03</td>\n",
       "      <td>2.046428e+03</td>\n",
       "      <td>1.492000e+03</td>\n",
       "    </tr>\n",
       "  </tbody>\n",
       "</table>\n",
       "</div>"
      ],
      "text/plain": [
       "         barcode_id      global_x      global_y      global_z             x  \\\n",
       "count  3.420433e+07  3.420433e+07  3.420433e+07  3.420433e+07  3.420433e+07   \n",
       "mean   1.887844e+02  2.578946e+03  5.468160e+03  2.800580e+00  1.000808e+03   \n",
       "std    9.517242e+01  1.438207e+03  3.058479e+03  1.971954e+00  5.139633e+02   \n",
       "min    0.000000e+00 -7.008353e+01 -1.340096e+02  0.000000e+00  4.118394e+01   \n",
       "25%    1.130000e+02  1.348201e+03  2.955873e+03  1.000000e+00  5.660819e+02   \n",
       "50%    1.980000e+02  2.570390e+03  5.470337e+03  3.000000e+00  9.954506e+02   \n",
       "75%    2.570000e+02  3.753105e+03  7.845866e+03  4.000000e+00  1.429164e+03   \n",
       "max    3.840000e+02  5.603088e+03  1.181130e+04  6.000000e+00  2.003593e+03   \n",
       "\n",
       "                  y           fov  \n",
       "count  3.420433e+07  3.420433e+07  \n",
       "mean   1.037227e+03  7.003680e+02  \n",
       "std    5.155417e+02  4.117334e+02  \n",
       "min    4.233885e-01  0.000000e+00  \n",
       "25%    6.043360e+02  3.410000e+02  \n",
       "50%    1.045606e+03  7.000000e+02  \n",
       "75%    1.473260e+03  1.044000e+03  \n",
       "max    2.046428e+03  1.492000e+03  "
      ]
     },
     "execution_count": 11,
     "metadata": {},
     "output_type": "execute_result"
    }
   ],
   "source": [
    "detectedTranscripts.describe()"
   ]
  },
  {
   "cell_type": "markdown",
   "metadata": {},
   "source": [
    "## explore with 105um regions"
   ]
  },
  {
   "cell_type": "code",
   "execution_count": 12,
   "metadata": {},
   "outputs": [],
   "source": [
    "df=detectedTranscripts\n",
    "df[['x','y']]=df[['x','y']]*0.108 #pixel to micron\n",
    "df['fov2']=df.fov\n",
    "df=df.drop(columns=['transcript_id','barcode_id'])"
   ]
  },
  {
   "cell_type": "code",
   "execution_count": 13,
   "metadata": {},
   "outputs": [],
   "source": [
    "size=105"
   ]
  },
  {
   "cell_type": "code",
   "execution_count": 14,
   "metadata": {},
   "outputs": [
    {
     "name": "stderr",
     "output_type": "stream",
     "text": [
      "100%|██████████| 1493/1493 [00:58<00:00, 25.60it/s]"
     ]
    },
    {
     "name": "stdout",
     "output_type": "stream",
     "text": [
      "CPU times: user 50.5 s, sys: 8.05 s, total: 58.6 s\n",
      "Wall time: 58.6 s\n"
     ]
    },
    {
     "name": "stderr",
     "output_type": "stream",
     "text": [
      "\n"
     ]
    }
   ],
   "source": [
    "%%time\n",
    "lst=[]\n",
    "count=0\n",
    "for fov in tqdm(df.fov.unique()):\n",
    "    _temp=df[df.fov==fov]\n",
    "    for x in range(0,210,size):\n",
    "        for y in range(0,210,size):\n",
    "            _t=_temp[(_temp.x>=x)&(_temp.x<=x+size)&(_temp.y>=y)&(_temp.y<=y+size)].copy()\n",
    "            _t['fov2']=count\n",
    "            lst.append(_t)\n",
    "            count+=1"
   ]
  },
  {
   "cell_type": "code",
   "execution_count": 15,
   "metadata": {},
   "outputs": [
    {
     "name": "stdout",
     "output_type": "stream",
     "text": [
      "CPU times: user 470 ms, sys: 525 ms, total: 995 ms\n",
      "Wall time: 994 ms\n"
     ]
    }
   ],
   "source": [
    "%%time\n",
    "df2=pd.concat(lst)"
   ]
  },
  {
   "cell_type": "code",
   "execution_count": 16,
   "metadata": {},
   "outputs": [],
   "source": [
    "df2=df2[['global_x', 'global_y', 'gene', 'fov','fov2']]"
   ]
  },
  {
   "cell_type": "code",
   "execution_count": 17,
   "metadata": {},
   "outputs": [],
   "source": [
    "df2.to_parquet('HuOvarCanc_723536FT2_VS15_'+str(size)+'um_fov.parquet')  \n"
   ]
  },
  {
   "cell_type": "code",
   "execution_count": 19,
   "metadata": {},
   "outputs": [
    {
     "data": {
      "text/html": [
       "<div>\n",
       "<style scoped>\n",
       "    .dataframe tbody tr th:only-of-type {\n",
       "        vertical-align: middle;\n",
       "    }\n",
       "\n",
       "    .dataframe tbody tr th {\n",
       "        vertical-align: top;\n",
       "    }\n",
       "\n",
       "    .dataframe thead th {\n",
       "        text-align: right;\n",
       "    }\n",
       "</style>\n",
       "<table border=\"1\" class=\"dataframe\">\n",
       "  <thead>\n",
       "    <tr style=\"text-align: right;\">\n",
       "      <th></th>\n",
       "      <th>global_x</th>\n",
       "      <th>global_y</th>\n",
       "      <th>gene</th>\n",
       "      <th>fov</th>\n",
       "      <th>fov2</th>\n",
       "    </tr>\n",
       "  </thead>\n",
       "  <tbody>\n",
       "    <tr>\n",
       "      <th>1686377</th>\n",
       "      <td>44.026030</td>\n",
       "      <td>3585.8313</td>\n",
       "      <td>JUN</td>\n",
       "      <td>0</td>\n",
       "      <td>0</td>\n",
       "    </tr>\n",
       "    <tr>\n",
       "      <th>1704334</th>\n",
       "      <td>-42.677280</td>\n",
       "      <td>3604.1216</td>\n",
       "      <td>WARS</td>\n",
       "      <td>0</td>\n",
       "      <td>0</td>\n",
       "    </tr>\n",
       "    <tr>\n",
       "      <th>1706931</th>\n",
       "      <td>42.024630</td>\n",
       "      <td>3541.6572</td>\n",
       "      <td>VEGFA</td>\n",
       "      <td>0</td>\n",
       "      <td>0</td>\n",
       "    </tr>\n",
       "    <tr>\n",
       "      <th>1850672</th>\n",
       "      <td>44.083520</td>\n",
       "      <td>3587.9265</td>\n",
       "      <td>SELE</td>\n",
       "      <td>0</td>\n",
       "      <td>0</td>\n",
       "    </tr>\n",
       "    <tr>\n",
       "      <th>2214423</th>\n",
       "      <td>24.999739</td>\n",
       "      <td>3570.3472</td>\n",
       "      <td>INSR</td>\n",
       "      <td>0</td>\n",
       "      <td>0</td>\n",
       "    </tr>\n",
       "    <tr>\n",
       "      <th>...</th>\n",
       "      <td>...</td>\n",
       "      <td>...</td>\n",
       "      <td>...</td>\n",
       "      <td>...</td>\n",
       "      <td>...</td>\n",
       "    </tr>\n",
       "    <tr>\n",
       "      <th>2766399</th>\n",
       "      <td>5560.472700</td>\n",
       "      <td>4206.8413</td>\n",
       "      <td>Blank-37</td>\n",
       "      <td>1492</td>\n",
       "      <td>5971</td>\n",
       "    </tr>\n",
       "    <tr>\n",
       "      <th>2766468</th>\n",
       "      <td>5526.192400</td>\n",
       "      <td>4212.4785</td>\n",
       "      <td>Blank-37</td>\n",
       "      <td>1492</td>\n",
       "      <td>5971</td>\n",
       "    </tr>\n",
       "    <tr>\n",
       "      <th>2772937</th>\n",
       "      <td>5542.418000</td>\n",
       "      <td>4288.0570</td>\n",
       "      <td>Blank-37</td>\n",
       "      <td>1492</td>\n",
       "      <td>5971</td>\n",
       "    </tr>\n",
       "    <tr>\n",
       "      <th>2781762</th>\n",
       "      <td>5521.141000</td>\n",
       "      <td>4277.3413</td>\n",
       "      <td>Blank-38</td>\n",
       "      <td>1492</td>\n",
       "      <td>5971</td>\n",
       "    </tr>\n",
       "    <tr>\n",
       "      <th>2790522</th>\n",
       "      <td>5512.885000</td>\n",
       "      <td>4264.8260</td>\n",
       "      <td>Blank-38</td>\n",
       "      <td>1492</td>\n",
       "      <td>5971</td>\n",
       "    </tr>\n",
       "  </tbody>\n",
       "</table>\n",
       "<p>33862924 rows × 5 columns</p>\n",
       "</div>"
      ],
      "text/plain": [
       "            global_x   global_y      gene   fov  fov2\n",
       "1686377    44.026030  3585.8313       JUN     0     0\n",
       "1704334   -42.677280  3604.1216      WARS     0     0\n",
       "1706931    42.024630  3541.6572     VEGFA     0     0\n",
       "1850672    44.083520  3587.9265      SELE     0     0\n",
       "2214423    24.999739  3570.3472      INSR     0     0\n",
       "...              ...        ...       ...   ...   ...\n",
       "2766399  5560.472700  4206.8413  Blank-37  1492  5971\n",
       "2766468  5526.192400  4212.4785  Blank-37  1492  5971\n",
       "2772937  5542.418000  4288.0570  Blank-37  1492  5971\n",
       "2781762  5521.141000  4277.3413  Blank-38  1492  5971\n",
       "2790522  5512.885000  4264.8260  Blank-38  1492  5971\n",
       "\n",
       "[33862924 rows x 5 columns]"
      ]
     },
     "execution_count": 19,
     "metadata": {},
     "output_type": "execute_result"
    }
   ],
   "source": [
    "df2=pd.read_parquet('HuOvarCanc_723536FT2_VS15_'+str(size)+'um_fov.parquet')  \n",
    "df2"
   ]
  },
  {
   "cell_type": "code",
   "execution_count": 10,
   "metadata": {},
   "outputs": [],
   "source": [
    "detectedTranscripts = detectedTranscripts[['global_x', 'global_y', 'gene', 'fov']]"
   ]
  },
  {
   "cell_type": "code",
   "execution_count": 11,
   "metadata": {},
   "outputs": [
    {
     "data": {
      "text/html": [
       "<div>\n",
       "<style scoped>\n",
       "    .dataframe tbody tr th:only-of-type {\n",
       "        vertical-align: middle;\n",
       "    }\n",
       "\n",
       "    .dataframe tbody tr th {\n",
       "        vertical-align: top;\n",
       "    }\n",
       "\n",
       "    .dataframe thead th {\n",
       "        text-align: right;\n",
       "    }\n",
       "</style>\n",
       "<table border=\"1\" class=\"dataframe\">\n",
       "  <thead>\n",
       "    <tr style=\"text-align: right;\">\n",
       "      <th></th>\n",
       "      <th>global_x</th>\n",
       "      <th>global_y</th>\n",
       "      <th>gene</th>\n",
       "      <th>fov</th>\n",
       "    </tr>\n",
       "  </thead>\n",
       "  <tbody>\n",
       "    <tr>\n",
       "      <th>2299</th>\n",
       "      <td>120.448586</td>\n",
       "      <td>3541.7170</td>\n",
       "      <td>FCGR2A</td>\n",
       "      <td>0</td>\n",
       "    </tr>\n",
       "    <tr>\n",
       "      <th>2704</th>\n",
       "      <td>67.957760</td>\n",
       "      <td>3611.7322</td>\n",
       "      <td>FCGR2A</td>\n",
       "      <td>0</td>\n",
       "    </tr>\n",
       "    <tr>\n",
       "      <th>2754</th>\n",
       "      <td>58.372974</td>\n",
       "      <td>3619.9395</td>\n",
       "      <td>FCGR2A</td>\n",
       "      <td>0</td>\n",
       "    </tr>\n",
       "    <tr>\n",
       "      <th>3250</th>\n",
       "      <td>79.943130</td>\n",
       "      <td>3704.8447</td>\n",
       "      <td>FCGR2A</td>\n",
       "      <td>0</td>\n",
       "    </tr>\n",
       "    <tr>\n",
       "      <th>4454</th>\n",
       "      <td>120.167080</td>\n",
       "      <td>3708.4856</td>\n",
       "      <td>FCGR2A</td>\n",
       "      <td>0</td>\n",
       "    </tr>\n",
       "  </tbody>\n",
       "</table>\n",
       "</div>"
      ],
      "text/plain": [
       "        global_x   global_y    gene  fov\n",
       "2299  120.448586  3541.7170  FCGR2A    0\n",
       "2704   67.957760  3611.7322  FCGR2A    0\n",
       "2754   58.372974  3619.9395  FCGR2A    0\n",
       "3250   79.943130  3704.8447  FCGR2A    0\n",
       "4454  120.167080  3708.4856  FCGR2A    0"
      ]
     },
     "execution_count": 11,
     "metadata": {},
     "output_type": "execute_result"
    }
   ],
   "source": [
    "detectedTranscripts.head()"
   ]
  },
  {
   "cell_type": "code",
   "execution_count": null,
   "metadata": {},
   "outputs": [],
   "source": [
    "detectedTranscripts['x'].max()"
   ]
  },
  {
   "cell_type": "code",
   "execution_count": null,
   "metadata": {},
   "outputs": [],
   "source": [
    "detectedTranscripts.fov()"
   ]
  },
  {
   "cell_type": "markdown",
   "metadata": {},
   "source": [
    "## FOV correlation"
   ]
  },
  {
   "cell_type": "markdown",
   "metadata": {},
   "source": [
    "## generate a matrix with count of each gene in each FOV"
   ]
  },
  {
   "cell_type": "code",
   "execution_count": 41,
   "metadata": {},
   "outputs": [
    {
     "name": "stdout",
     "output_type": "stream",
     "text": [
      "CPU times: user 2.02 s, sys: 581 ms, total: 2.6 s\n",
      "Wall time: 2.6 s\n"
     ]
    }
   ],
   "source": [
    "%%time\n",
    "_t=pd.DataFrame(df2.groupby(['fov2','gene']).size()).unstack(fill_value=0)"
   ]
  },
  {
   "cell_type": "code",
   "execution_count": 42,
   "metadata": {},
   "outputs": [],
   "source": [
    "_t.columns = _t.columns.droplevel()"
   ]
  },
  {
   "cell_type": "code",
   "execution_count": 31,
   "metadata": {},
   "outputs": [
    {
     "name": "stderr",
     "output_type": "stream",
     "text": [
      "100%|██████████| 23/23 [00:00<00:00, 42.03it/s]"
     ]
    },
    {
     "name": "stdout",
     "output_type": "stream",
     "text": [
      "CPU times: user 550 ms, sys: 66 µs, total: 550 ms\n",
      "Wall time: 549 ms\n"
     ]
    },
    {
     "name": "stderr",
     "output_type": "stream",
     "text": [
      "\n"
     ]
    }
   ],
   "source": [
    "%%time\n",
    "hm=pd.DataFrame()\n",
    "\n",
    "genes=[\"PTPRC\",\"CD8A\",\"CD3E\",\"CD3D\",\"C1QC\",\"CD163\",\"CD79A\",\"MS4A1\",\"TRAC\",\n",
    "       \"ACTA2\",\"VWF\",\"PECAM1\",\"COL1A1\",\"CD4\",'CLDN4',\"CD14\",'MUC1','EPCAM',\"TREM2\",\n",
    "       \"TIGIT\",\"CDH1\",'PDGFRA','RGS5']\n",
    "\n",
    "for i in tqdm(genes):\n",
    "    lst=[]\n",
    "    for j in genes:\n",
    "        corr,_=pearsonr(_t[i].values, _t[j].values)\n",
    "        lst.append(pd.DataFrame([{'Gene_A':i,'Gene_B':j,'corr':corr}]))\n",
    "    results_df = pd.concat(lst)\n",
    "    hm=pd.concat([hm,pd.DataFrame.from_dict(results_df)],ignore_index=True)"
   ]
  },
  {
   "cell_type": "code",
   "execution_count": 32,
   "metadata": {},
   "outputs": [
    {
     "data": {
      "text/html": [
       "<div>\n",
       "<style scoped>\n",
       "    .dataframe tbody tr th:only-of-type {\n",
       "        vertical-align: middle;\n",
       "    }\n",
       "\n",
       "    .dataframe tbody tr th {\n",
       "        vertical-align: top;\n",
       "    }\n",
       "\n",
       "    .dataframe thead th {\n",
       "        text-align: right;\n",
       "    }\n",
       "</style>\n",
       "<table border=\"1\" class=\"dataframe\">\n",
       "  <thead>\n",
       "    <tr style=\"text-align: right;\">\n",
       "      <th></th>\n",
       "      <th>Gene_A</th>\n",
       "      <th>Gene_B</th>\n",
       "      <th>corr</th>\n",
       "    </tr>\n",
       "  </thead>\n",
       "  <tbody>\n",
       "    <tr>\n",
       "      <th>290</th>\n",
       "      <td>COL1A1</td>\n",
       "      <td>CLDN4</td>\n",
       "      <td>-0.344412</td>\n",
       "    </tr>\n",
       "    <tr>\n",
       "      <th>334</th>\n",
       "      <td>CLDN4</td>\n",
       "      <td>COL1A1</td>\n",
       "      <td>-0.344412</td>\n",
       "    </tr>\n",
       "    <tr>\n",
       "      <th>292</th>\n",
       "      <td>COL1A1</td>\n",
       "      <td>MUC1</td>\n",
       "      <td>-0.276182</td>\n",
       "    </tr>\n",
       "  </tbody>\n",
       "</table>\n",
       "</div>"
      ],
      "text/plain": [
       "     Gene_A  Gene_B      corr\n",
       "290  COL1A1   CLDN4 -0.344412\n",
       "334   CLDN4  COL1A1 -0.344412\n",
       "292  COL1A1    MUC1 -0.276182"
      ]
     },
     "execution_count": 32,
     "metadata": {},
     "output_type": "execute_result"
    }
   ],
   "source": [
    "hm.sort_values(by='corr').head(3)"
   ]
  },
  {
   "cell_type": "code",
   "execution_count": 36,
   "metadata": {},
   "outputs": [],
   "source": [
    "import seaborn as sns; sns.set_theme()"
   ]
  },
  {
   "cell_type": "code",
   "execution_count": 38,
   "metadata": {},
   "outputs": [
    {
     "data": {
      "text/plain": [
       "[]"
      ]
     },
     "execution_count": 38,
     "metadata": {},
     "output_type": "execute_result"
    },
    {
     "data": {
      "image/png": "[encoded data removed]",
      "text/plain": [
       "<Figure size 700x700 with 4 Axes>"
      ]
     },
     "metadata": {
      "image/png": {
       "height": 687,
       "width": 629
      }
     },
     "output_type": "display_data"
    }
   ],
   "source": [
    "total_norm=hm.pivot(index='Gene_A', columns='Gene_B', values='corr').fillna(0).T\n",
    "g =sns.clustermap(total_norm, cmap=\"bwr\", row_cluster=True ,col_cluster=True,vmin=hm['corr'].min(), vmax=1,\n",
    "                      figsize=(10,10))\n",
    "g.fig.subplots_adjust(left=0.1,bottom=0.2)\n",
    "x0, _y0, _w, _h = g.cbar_pos\n",
    "g.ax_cbar.set_position([0.1, 0.02, g.ax_row_dendrogram.get_position().width, 0.05])\n",
    "g.ax_cbar.set_title('Pearson')\n",
    "g.ax_cbar.tick_params(axis='x', length=10)\n",
    "for spine in g.ax_cbar.spines:\n",
    "    g.ax_cbar.spines[spine].set_color('gray')\n",
    "    g.ax_cbar.spines[spine].set_linewidth(2)\n",
    "plt.savefig('./figs/heatmap.pdf')\n",
    "plt.plot()"
   ]
  }
 ],
 "metadata": {
  "kernelspec": {
   "display_name": "newscanpy",
   "language": "python",
   "name": "newscanpy"
  },
  "language_info": {
   "codemirror_mode": {
    "name": "ipython",
    "version": 3
   },
   "file_extension": ".py",
   "mimetype": "text/x-python",
   "name": "python",
   "nbconvert_exporter": "python",
   "pygments_lexer": "ipython3",
   "version": "3.9.12"
  }
 },
 "nbformat": 4,
 "nbformat_minor": 4
}
